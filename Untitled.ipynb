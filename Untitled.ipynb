{
 "cells": [
  {
   "cell_type": "code",
   "execution_count": null,
   "metadata": {},
   "outputs": [],
   "source": [
    "import shutil\n",
    "try:\n",
    "    shutil.rmtree('non_exist_dir')\n",
    "except:\n",
    "    print('Raise an exeception, but contunuing...')"
   ]
  },
  {
   "cell_type": "code",
   "execution_count": 1,
   "metadata": {},
   "outputs": [
    {
     "name": "stdout",
     "output_type": "stream",
     "text": [
      "[WinError 3] 지정된 경로를 찾을 수 없습니다: 'non_exist_dir'\n"
     ]
    }
   ],
   "source": [
    "import shutil\n",
    "try:\n",
    "    shutil.rmtree('non_exist_dir')\n",
    "except WindowsError as e:\n",
    "    print(e)"
   ]
  },
  {
   "cell_type": "code",
   "execution_count": 3,
   "metadata": {},
   "outputs": [
    {
     "name": "stdout",
     "output_type": "stream",
     "text": [
      "2\n",
      "지정된 파일을 찾을 수 없습니다.\n"
     ]
    }
   ],
   "source": [
    "import shutil\n",
    "import ctypes\n",
    "\n",
    "try:\n",
    "    shutil.rmtree('non_exist_dir')\n",
    "except WindowsError as e:\n",
    "    print(e.errno)\n",
    "    print(ctypes.FormatError(e.errno))"
   ]
  },
  {
   "cell_type": "code",
   "execution_count": 6,
   "metadata": {},
   "outputs": [
    {
     "name": "stdout",
     "output_type": "stream",
     "text": [
      "IndexError\n",
      "Print in any situation\n",
      "Keep calm and go aehead\n"
     ]
    }
   ],
   "source": [
    "L=[1,2,3]\n",
    "def func1():\n",
    "    try:\n",
    "        num=L[3]\n",
    "    except IndexError:\n",
    "        print('IndexError')\n",
    "    else:\n",
    "        print('Keep calm and go ahead')\n",
    "    finally:\n",
    "        print('Print in any situation')\n",
    "        \n",
    "def func2():\n",
    "    try:\n",
    "        num=L[1]\n",
    "    except IndexError:\n",
    "        print('Indexerror')\n",
    "    else:\n",
    "        print('Keep calm and go aehead')\n",
    "\n",
    "func1()\n",
    "func2()\n",
    "        "
   ]
  },
  {
   "cell_type": "code",
   "execution_count": 13,
   "metadata": {},
   "outputs": [
    {
     "name": "stdout",
     "output_type": "stream",
     "text": [
      "Input Video file name :01_Command_Stream.ts\n",
      "False\n"
     ]
    }
   ],
   "source": [
    "import numpy as np\n",
    "import cv2\n",
    "import os\n",
    "\n",
    "\n",
    "vimage=input(\"Input Video file name :\")\n",
    "vimage=os.getcwd()+'\\\\'+vimage\n",
    "\n",
    "cap=cv2.VideoCapture(vimage)\n",
    "\n",
    "while True:\n",
    "    ret, frame = cap.read() #ret : 영상이 정상적으로 읽혀지면 True, 그렇지 않은면 False, frame: 불러온 영상저장 버퍼\n",
    "    print(ret)\n",
    "    \n",
    "    if ret:\n",
    "        gray=cv2.cvtColor(frame, cv2.COLOR_BGR2GRAY)\n",
    "        \n",
    "        cv2.imshow('frame', gray)\n",
    "        \n",
    "        if cv2.waitKey(10)&0xFF==ord('q'):\n",
    "            break\n",
    "            \n",
    "    else:\n",
    "        break\n",
    "        \n",
    "#Release\n",
    "cap.release()\n",
    "cv2.destroyAllWindows()\n",
    "\n"
   ]
  },
  {
   "cell_type": "code",
   "execution_count": 4,
   "metadata": {},
   "outputs": [
    {
     "data": {
      "text/plain": [
       "'C:\\\\Users\\\\spbae\\\\OneDrive\\\\Docs\\\\Python\\\\imgeprocessing'"
      ]
     },
     "execution_count": 4,
     "metadata": {},
     "output_type": "execute_result"
    }
   ],
   "source": [
    "pwd"
   ]
  },
  {
   "cell_type": "code",
   "execution_count": 5,
   "metadata": {},
   "outputs": [
    {
     "data": {
      "text/plain": [
       "<function dir>"
      ]
     },
     "execution_count": 5,
     "metadata": {},
     "output_type": "execute_result"
    }
   ],
   "source": [
    "dir"
   ]
  },
  {
   "cell_type": "code",
   "execution_count": null,
   "metadata": {},
   "outputs": [],
   "source": []
  }
 ],
 "metadata": {
  "kernelspec": {
   "display_name": "Python 3",
   "language": "python",
   "name": "python3"
  },
  "language_info": {
   "codemirror_mode": {
    "name": "ipython",
    "version": 3
   },
   "file_extension": ".py",
   "mimetype": "text/x-python",
   "name": "python",
   "nbconvert_exporter": "python",
   "pygments_lexer": "ipython3",
   "version": "3.6.6"
  }
 },
 "nbformat": 4,
 "nbformat_minor": 2
}
